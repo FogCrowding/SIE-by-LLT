{
 "cells": [
  {
   "attachments": {},
   "cell_type": "markdown",
   "metadata": {},
   "source": [
    "# 此文件用于测试函数"
   ]
  },
  {
   "attachments": {},
   "cell_type": "markdown",
   "metadata": {},
   "source": [
    "实验记录：在 $rate = 0.9, dis = 2.82$ ，100个初始感染者的连续情形下在40天达到500左右的最大，初始为10的数据应该更漂亮？\n",
    "\n",
    "离散情况初始值需要仔细调配，否则会出现感染者过早清零，不好模拟。"
   ]
  },
  {
   "cell_type": "code",
   "execution_count": 1,
   "metadata": {},
   "outputs": [],
   "source": [
    "import numpy as np\n",
    "from numpy import random as rdm\n",
    "from matplotlib import pyplot as plt\n",
    "\n",
    "import utils\n",
    "import crowd"
   ]
  },
  {
   "cell_type": "code",
   "execution_count": 2,
   "metadata": {},
   "outputs": [
    {
     "data": {
      "text/plain": [
       "array([[ -14.18673453,  -57.48769955,  137.12361187, ...,  122.99984657,\n",
       "          68.28933121,  242.0134048 ],\n",
       "       [ 180.96377001,  113.5837352 , -157.30108433, ...,  122.21569635,\n",
       "         343.90935623,   55.01341604],\n",
       "       [   0.        ,    0.        ,    0.        , ...,    0.        ,\n",
       "           0.        ,    0.        ],\n",
       "       [   0.        ,    0.        ,    0.        , ...,    0.        ,\n",
       "           0.        ,    0.        ]])"
      ]
     },
     "execution_count": 2,
     "metadata": {},
     "output_type": "execute_result"
    }
   ],
   "source": [
    "c = crowd.crowd(4000, 'con')\n",
    "c.data"
   ]
  },
  {
   "cell_type": "code",
   "execution_count": 3,
   "metadata": {},
   "outputs": [
    {
     "name": "stdout",
     "output_type": "stream",
     "text": [
      "0\n",
      "1\n",
      "2\n",
      "3\n",
      "4\n",
      "5\n",
      "6\n",
      "7\n",
      "8\n",
      "9\n",
      "10\n",
      "11\n",
      "12\n",
      "13\n",
      "14\n",
      "15\n",
      "16\n",
      "17\n",
      "18\n",
      "19\n",
      "20\n",
      "21\n",
      "22\n",
      "23\n",
      "24\n",
      "25\n",
      "26\n",
      "27\n",
      "28\n",
      "29\n",
      "30\n",
      "31\n",
      "32\n",
      "33\n",
      "34\n",
      "35\n",
      "36\n",
      "37\n",
      "38\n",
      "39\n",
      "40\n",
      "41\n",
      "42\n",
      "43\n",
      "44\n",
      "45\n",
      "46\n",
      "47\n",
      "48\n",
      "49\n"
     ]
    }
   ],
   "source": [
    "x = utils.Process(c)"
   ]
  },
  {
   "cell_type": "code",
   "execution_count": 4,
   "metadata": {},
   "outputs": [
    {
     "data": {
      "text/plain": [
       "[(3888, 112, 0),\n",
       " (3872, 128, 0),\n",
       " (3856, 144, 0),\n",
       " (3834, 166, 0),\n",
       " (3810, 190, 0),\n",
       " (3791, 209, 0),\n",
       " (3761, 239, 0),\n",
       " (3727, 273, 0),\n",
       " (3693, 307, 0),\n",
       " (3654, 346, 0),\n",
       " (3627, 273, 100),\n",
       " (3599, 289, 112),\n",
       " (3562, 310, 128),\n",
       " (3523, 333, 144),\n",
       " (3481, 353, 166),\n",
       " (3425, 385, 190),\n",
       " (3372, 419, 209),\n",
       " (3321, 440, 239),\n",
       " (3272, 455, 273),\n",
       " (3213, 480, 307),\n",
       " (3166, 488, 346),\n",
       " (3116, 511, 373),\n",
       " (3069, 530, 401),\n",
       " (3006, 556, 438),\n",
       " (2939, 584, 477),\n",
       " (2886, 595, 519),\n",
       " (2845, 580, 575),\n",
       " (2779, 593, 628),\n",
       " (2724, 597, 679),\n",
       " (2674, 598, 728),\n",
       " (2625, 588, 787),\n",
       " (2581, 585, 834),\n",
       " (2545, 571, 884),\n",
       " (2496, 573, 931),\n",
       " (2460, 546, 994),\n",
       " (2412, 527, 1061),\n",
       " (2371, 515, 1114),\n",
       " (2324, 521, 1155),\n",
       " (2280, 499, 1221),\n",
       " (2247, 477, 1276),\n",
       " (2199, 475, 1326),\n",
       " (2170, 455, 1375),\n",
       " (2143, 438, 1419),\n",
       " (2113, 432, 1455),\n",
       " (2089, 407, 1504),\n",
       " (2070, 390, 1540),\n",
       " (2036, 376, 1588),\n",
       " (2019, 352, 1629),\n",
       " (1994, 330, 1676),\n",
       " (1970, 310, 1720)]"
      ]
     },
     "execution_count": 4,
     "metadata": {},
     "output_type": "execute_result"
    }
   ],
   "source": [
    "x"
   ]
  },
  {
   "cell_type": "code",
   "execution_count": 5,
   "metadata": {},
   "outputs": [
    {
     "data": {
      "text/plain": [
       "<matplotlib.legend.Legend at 0x10f08ba8070>"
      ]
     },
     "execution_count": 5,
     "metadata": {},
     "output_type": "execute_result"
    },
    {
     "data": {
      "image/png": "[encoded data removed]",
      "text/plain": [
       "<Figure size 432x288 with 1 Axes>"
      ]
     },
     "metadata": {
      "needs_background": "light"
     },
     "output_type": "display_data"
    }
   ],
   "source": [
    "plt.plot(np.arange(len(x)), x)\n",
    "plt.legend(['s', 'i', 'r'])"
   ]
  }
 ],
 "metadata": {
  "kernelspec": {
   "display_name": "base",
   "language": "python",
   "name": "python3"
  },
  "language_info": {
   "codemirror_mode": {
    "name": "ipython",
    "version": 3
   },
   "file_extension": ".py",
   "mimetype": "text/x-python",
   "name": "python",
   "nbconvert_exporter": "python",
   "pygments_lexer": "ipython3",
   "version": "3.9.12"
  },
  "orig_nbformat": 4,
  "vscode": {
   "interpreter": {
    "hash": "49cb93f377a7abe7414b7b0f21fb3017538004a126cf690fb524202736b7fb92"
   }
  }
 },
 "nbformat": 4,
 "nbformat_minor": 2
}
