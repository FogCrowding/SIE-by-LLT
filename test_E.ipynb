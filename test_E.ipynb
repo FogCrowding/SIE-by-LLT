{
 "cells": [
  {
   "cell_type": "code",
   "execution_count": 13,
   "metadata": {},
   "outputs": [],
   "source": [
    "import numpy as np\n",
    "from numpy import random as rdm\n",
    "from matplotlib import pyplot as plt\n",
    "\n",
    "import utils\n",
    "import crowd_E"
   ]
  },
  {
   "cell_type": "code",
   "execution_count": 14,
   "metadata": {},
   "outputs": [],
   "source": [
    "c = crowd_E.crowd_E(4000, 'con', 5)"
   ]
  },
  {
   "cell_type": "code",
   "execution_count": 15,
   "metadata": {},
   "outputs": [
    {
     "data": {
      "text/plain": [
       "array([[ 324.48023532,  196.88236496,  115.84989805, ...,  287.19502726,\n",
       "        -428.05752738, -156.63741344],\n",
       "       [ -11.00192461,  -24.46719045,  179.29838253, ..., -164.00729324,\n",
       "          95.67882693,   73.21170983],\n",
       "       [   0.        ,    0.        ,    0.        , ...,    0.        ,\n",
       "           0.        ,    0.        ],\n",
       "       [   0.        ,    0.        ,    0.        , ...,    0.        ,\n",
       "           0.        ,    0.        ]])"
      ]
     },
     "execution_count": 15,
     "metadata": {},
     "output_type": "execute_result"
    }
   ],
   "source": [
    "c.data"
   ]
  },
  {
   "cell_type": "code",
   "execution_count": 16,
   "metadata": {},
   "outputs": [],
   "source": [
    "x = utils.Process(c, rate=0.05)"
   ]
  },
  {
   "cell_type": "code",
   "execution_count": 17,
   "metadata": {},
   "outputs": [
    {
     "data": {
      "text/plain": [
       "[(3879, 100, 0, 21),\n",
       " (3843, 107, 0, 50),\n",
       " (3806, 116, 0, 78),\n",
       " (3775, 136, 0, 89),\n",
       " (3738, 158, 0, 104),\n",
       " (3692, 184, 0, 124),\n",
       " (3643, 221, 0, 136),\n",
       " (3598, 254, 0, 148),\n",
       " (3521, 292, 0, 187),\n",
       " (3463, 343, 0, 194),\n",
       " (3400, 279, 100, 221),\n",
       " (3341, 335, 105, 219),\n",
       " (3259, 384, 114, 243),\n",
       " (3178, 441, 126, 255),\n",
       " (3095, 477, 150, 278),\n",
       " (3013, 534, 171, 282),\n",
       " (2907, 580, 195, 318),\n",
       " (2804, 618, 230, 348),\n",
       " (2709, 672, 265, 354),\n",
       " (2598, 719, 309, 374),\n",
       " (2479, 768, 362, 391),\n",
       " (2371, 825, 399, 405),\n",
       " (2279, 862, 454, 405),\n",
       " (2169, 883, 519, 429),\n",
       " (2081, 904, 589, 426),\n",
       " (1978, 947, 654, 421),\n",
       " (1870, 962, 727, 441),\n",
       " (1793, 978, 803, 426),\n",
       " (1720, 999, 885, 396),\n",
       " (1646, 991, 976, 387),\n",
       " (1557, 991, 1063, 389),\n",
       " (1480, 981, 1177, 362),\n",
       " (1413, 976, 1266, 345),\n",
       " (1341, 965, 1360, 334),\n",
       " (1274, 955, 1446, 325),\n",
       " (1228, 926, 1540, 306),\n",
       " (1174, 876, 1644, 306),\n",
       " (1147, 859, 1725, 269),\n",
       " (1119, 829, 1813, 239),\n",
       " (1078, 783, 1912, 227),\n",
       " (1042, 744, 2003, 211),\n",
       " (1005, 701, 2100, 194),\n",
       " (983, 653, 2195, 169),\n",
       " (946, 620, 2273, 161),\n",
       " (927, 579, 2353, 141),\n",
       " (910, 535, 2427, 128),\n",
       " (895, 503, 2488, 114),\n",
       " (882, 479, 2539, 100),\n",
       " (865, 438, 2605, 92),\n",
       " (852, 401, 2661, 86)]"
      ]
     },
     "execution_count": 17,
     "metadata": {},
     "output_type": "execute_result"
    }
   ],
   "source": [
    "x"
   ]
  },
  {
   "cell_type": "code",
   "execution_count": 18,
   "metadata": {},
   "outputs": [
    {
     "data": {
      "text/plain": [
       "<matplotlib.legend.Legend at 0x182cdb8a580>"
      ]
     },
     "execution_count": 18,
     "metadata": {},
     "output_type": "execute_result"
    },
    {
     "data": {
      "image/png": "[encoded data removed]",
      "text/plain": [
       "<Figure size 432x288 with 1 Axes>"
      ]
     },
     "metadata": {
      "needs_background": "light"
     },
     "output_type": "display_data"
    }
   ],
   "source": [
    "plt.plot(np.arange(len(x)), x)\n",
    "plt.legend(['s', 'i', 'r', 'e'])"
   ]
  }
 ],
 "metadata": {
  "kernelspec": {
   "display_name": "base",
   "language": "python",
   "name": "python3"
  },
  "language_info": {
   "codemirror_mode": {
    "name": "ipython",
    "version": 3
   },
   "file_extension": ".py",
   "mimetype": "text/x-python",
   "name": "python",
   "nbconvert_exporter": "python",
   "pygments_lexer": "ipython3",
   "version": "3.9.12"
  },
  "orig_nbformat": 4,
  "vscode": {
   "interpreter": {
    "hash": "49cb93f377a7abe7414b7b0f21fb3017538004a126cf690fb524202736b7fb92"
   }
  }
 },
 "nbformat": 4,
 "nbformat_minor": 2
}
